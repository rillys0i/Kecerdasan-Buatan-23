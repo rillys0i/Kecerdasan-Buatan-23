{
  "nbformat": 4,
  "nbformat_minor": 0,
  "metadata": {
    "colab": {
      "provenance": [],
      "gpuType": "T4"
    },
    "kernelspec": {
      "name": "python3",
      "display_name": "Python 3"
    },
    "language_info": {
      "name": "python"
    },
    "accelerator": "GPU"
  },
  "cells": [
    {
      "cell_type": "markdown",
      "source": [
        "## **Import Library**\n"
      ],
      "metadata": {
        "id": "hVNe87ZuuSg_"
      }
    },
    {
      "cell_type": "code",
      "execution_count": 14,
      "metadata": {
        "id": "xv2SjAm7szQH"
      },
      "outputs": [],
      "source": [
        "import pandas as pd\n",
        "import matplotlib.pyplot as plt\n",
        "import seaborn as sns\n",
        "import re"
      ]
    },
    {
      "cell_type": "markdown",
      "source": [
        "## **Membaca Dataset**\n",
        "\n"
      ],
      "metadata": {
        "id": "gMUGzjQ9ugAm"
      }
    },
    {
      "cell_type": "code",
      "source": [
        "df = pd.read_csv('/content/klasifikasimhs.csv')\n",
        "df.head()"
      ],
      "metadata": {
        "colab": {
          "base_uri": "https://localhost:8080/",
          "height": 206
        },
        "id": "HAvlImTntdFa",
        "outputId": "d4776292-18d0-4682-8cc2-ff9aa1fb20df"
      },
      "execution_count": 15,
      "outputs": [
        {
          "output_type": "execute_result",
          "data": {
            "text/plain": [
              "   Tempat Tinggal Pekerjaan Orang Tua  Penghasilan Orang Tua  \\\n",
              "0               0                 PNS               10000000   \n",
              "1               0           TNI/POLRI                8000000   \n",
              "2               1              Petani                4000000   \n",
              "3               1             Nelayan                3000000   \n",
              "4               0               Buruh                2000000   \n",
              "\n",
              "   Jumlah Tanggungan Orang Tua  Kendaraan Kelayakan Keringanan UKT  \n",
              "0                            3          1                        0  \n",
              "1                            2          2                        1  \n",
              "2                            4          0                        0  \n",
              "3                            5          1                        0  \n",
              "4                            2          1                        1  "
            ],
            "text/html": [
              "\n",
              "  <div id=\"df-53ab2cef-3118-4d54-9ffa-5c80b24ee236\" class=\"colab-df-container\">\n",
              "    <div>\n",
              "<style scoped>\n",
              "    .dataframe tbody tr th:only-of-type {\n",
              "        vertical-align: middle;\n",
              "    }\n",
              "\n",
              "    .dataframe tbody tr th {\n",
              "        vertical-align: top;\n",
              "    }\n",
              "\n",
              "    .dataframe thead th {\n",
              "        text-align: right;\n",
              "    }\n",
              "</style>\n",
              "<table border=\"1\" class=\"dataframe\">\n",
              "  <thead>\n",
              "    <tr style=\"text-align: right;\">\n",
              "      <th></th>\n",
              "      <th>Tempat Tinggal</th>\n",
              "      <th>Pekerjaan Orang Tua</th>\n",
              "      <th>Penghasilan Orang Tua</th>\n",
              "      <th>Jumlah Tanggungan Orang Tua</th>\n",
              "      <th>Kendaraan</th>\n",
              "      <th>Kelayakan Keringanan UKT</th>\n",
              "    </tr>\n",
              "  </thead>\n",
              "  <tbody>\n",
              "    <tr>\n",
              "      <th>0</th>\n",
              "      <td>0</td>\n",
              "      <td>PNS</td>\n",
              "      <td>10000000</td>\n",
              "      <td>3</td>\n",
              "      <td>1</td>\n",
              "      <td>0</td>\n",
              "    </tr>\n",
              "    <tr>\n",
              "      <th>1</th>\n",
              "      <td>0</td>\n",
              "      <td>TNI/POLRI</td>\n",
              "      <td>8000000</td>\n",
              "      <td>2</td>\n",
              "      <td>2</td>\n",
              "      <td>1</td>\n",
              "    </tr>\n",
              "    <tr>\n",
              "      <th>2</th>\n",
              "      <td>1</td>\n",
              "      <td>Petani</td>\n",
              "      <td>4000000</td>\n",
              "      <td>4</td>\n",
              "      <td>0</td>\n",
              "      <td>0</td>\n",
              "    </tr>\n",
              "    <tr>\n",
              "      <th>3</th>\n",
              "      <td>1</td>\n",
              "      <td>Nelayan</td>\n",
              "      <td>3000000</td>\n",
              "      <td>5</td>\n",
              "      <td>1</td>\n",
              "      <td>0</td>\n",
              "    </tr>\n",
              "    <tr>\n",
              "      <th>4</th>\n",
              "      <td>0</td>\n",
              "      <td>Buruh</td>\n",
              "      <td>2000000</td>\n",
              "      <td>2</td>\n",
              "      <td>1</td>\n",
              "      <td>1</td>\n",
              "    </tr>\n",
              "  </tbody>\n",
              "</table>\n",
              "</div>\n",
              "    <div class=\"colab-df-buttons\">\n",
              "\n",
              "  <div class=\"colab-df-container\">\n",
              "    <button class=\"colab-df-convert\" onclick=\"convertToInteractive('df-53ab2cef-3118-4d54-9ffa-5c80b24ee236')\"\n",
              "            title=\"Convert this dataframe to an interactive table.\"\n",
              "            style=\"display:none;\">\n",
              "\n",
              "  <svg xmlns=\"http://www.w3.org/2000/svg\" height=\"24px\" viewBox=\"0 -960 960 960\">\n",
              "    <path d=\"M120-120v-720h720v720H120Zm60-500h600v-160H180v160Zm220 220h160v-160H400v160Zm0 220h160v-160H400v160ZM180-400h160v-160H180v160Zm440 0h160v-160H620v160ZM180-180h160v-160H180v160Zm440 0h160v-160H620v160Z\"/>\n",
              "  </svg>\n",
              "    </button>\n",
              "\n",
              "  <style>\n",
              "    .colab-df-container {\n",
              "      display:flex;\n",
              "      gap: 12px;\n",
              "    }\n",
              "\n",
              "    .colab-df-convert {\n",
              "      background-color: #E8F0FE;\n",
              "      border: none;\n",
              "      border-radius: 50%;\n",
              "      cursor: pointer;\n",
              "      display: none;\n",
              "      fill: #1967D2;\n",
              "      height: 32px;\n",
              "      padding: 0 0 0 0;\n",
              "      width: 32px;\n",
              "    }\n",
              "\n",
              "    .colab-df-convert:hover {\n",
              "      background-color: #E2EBFA;\n",
              "      box-shadow: 0px 1px 2px rgba(60, 64, 67, 0.3), 0px 1px 3px 1px rgba(60, 64, 67, 0.15);\n",
              "      fill: #174EA6;\n",
              "    }\n",
              "\n",
              "    .colab-df-buttons div {\n",
              "      margin-bottom: 4px;\n",
              "    }\n",
              "\n",
              "    [theme=dark] .colab-df-convert {\n",
              "      background-color: #3B4455;\n",
              "      fill: #D2E3FC;\n",
              "    }\n",
              "\n",
              "    [theme=dark] .colab-df-convert:hover {\n",
              "      background-color: #434B5C;\n",
              "      box-shadow: 0px 1px 3px 1px rgba(0, 0, 0, 0.15);\n",
              "      filter: drop-shadow(0px 1px 2px rgba(0, 0, 0, 0.3));\n",
              "      fill: #FFFFFF;\n",
              "    }\n",
              "  </style>\n",
              "\n",
              "    <script>\n",
              "      const buttonEl =\n",
              "        document.querySelector('#df-53ab2cef-3118-4d54-9ffa-5c80b24ee236 button.colab-df-convert');\n",
              "      buttonEl.style.display =\n",
              "        google.colab.kernel.accessAllowed ? 'block' : 'none';\n",
              "\n",
              "      async function convertToInteractive(key) {\n",
              "        const element = document.querySelector('#df-53ab2cef-3118-4d54-9ffa-5c80b24ee236');\n",
              "        const dataTable =\n",
              "          await google.colab.kernel.invokeFunction('convertToInteractive',\n",
              "                                                    [key], {});\n",
              "        if (!dataTable) return;\n",
              "\n",
              "        const docLinkHtml = 'Like what you see? Visit the ' +\n",
              "          '<a target=\"_blank\" href=https://colab.research.google.com/notebooks/data_table.ipynb>data table notebook</a>'\n",
              "          + ' to learn more about interactive tables.';\n",
              "        element.innerHTML = '';\n",
              "        dataTable['output_type'] = 'display_data';\n",
              "        await google.colab.output.renderOutput(dataTable, element);\n",
              "        const docLink = document.createElement('div');\n",
              "        docLink.innerHTML = docLinkHtml;\n",
              "        element.appendChild(docLink);\n",
              "      }\n",
              "    </script>\n",
              "  </div>\n",
              "\n",
              "\n",
              "    <div id=\"df-abae7551-5d2b-4e3c-b298-9039b975d1ce\">\n",
              "      <button class=\"colab-df-quickchart\" onclick=\"quickchart('df-abae7551-5d2b-4e3c-b298-9039b975d1ce')\"\n",
              "                title=\"Suggest charts\"\n",
              "                style=\"display:none;\">\n",
              "\n",
              "<svg xmlns=\"http://www.w3.org/2000/svg\" height=\"24px\"viewBox=\"0 0 24 24\"\n",
              "     width=\"24px\">\n",
              "    <g>\n",
              "        <path d=\"M19 3H5c-1.1 0-2 .9-2 2v14c0 1.1.9 2 2 2h14c1.1 0 2-.9 2-2V5c0-1.1-.9-2-2-2zM9 17H7v-7h2v7zm4 0h-2V7h2v10zm4 0h-2v-4h2v4z\"/>\n",
              "    </g>\n",
              "</svg>\n",
              "      </button>\n",
              "\n",
              "<style>\n",
              "  .colab-df-quickchart {\n",
              "      --bg-color: #E8F0FE;\n",
              "      --fill-color: #1967D2;\n",
              "      --hover-bg-color: #E2EBFA;\n",
              "      --hover-fill-color: #174EA6;\n",
              "      --disabled-fill-color: #AAA;\n",
              "      --disabled-bg-color: #DDD;\n",
              "  }\n",
              "\n",
              "  [theme=dark] .colab-df-quickchart {\n",
              "      --bg-color: #3B4455;\n",
              "      --fill-color: #D2E3FC;\n",
              "      --hover-bg-color: #434B5C;\n",
              "      --hover-fill-color: #FFFFFF;\n",
              "      --disabled-bg-color: #3B4455;\n",
              "      --disabled-fill-color: #666;\n",
              "  }\n",
              "\n",
              "  .colab-df-quickchart {\n",
              "    background-color: var(--bg-color);\n",
              "    border: none;\n",
              "    border-radius: 50%;\n",
              "    cursor: pointer;\n",
              "    display: none;\n",
              "    fill: var(--fill-color);\n",
              "    height: 32px;\n",
              "    padding: 0;\n",
              "    width: 32px;\n",
              "  }\n",
              "\n",
              "  .colab-df-quickchart:hover {\n",
              "    background-color: var(--hover-bg-color);\n",
              "    box-shadow: 0 1px 2px rgba(60, 64, 67, 0.3), 0 1px 3px 1px rgba(60, 64, 67, 0.15);\n",
              "    fill: var(--button-hover-fill-color);\n",
              "  }\n",
              "\n",
              "  .colab-df-quickchart-complete:disabled,\n",
              "  .colab-df-quickchart-complete:disabled:hover {\n",
              "    background-color: var(--disabled-bg-color);\n",
              "    fill: var(--disabled-fill-color);\n",
              "    box-shadow: none;\n",
              "  }\n",
              "\n",
              "  .colab-df-spinner {\n",
              "    border: 2px solid var(--fill-color);\n",
              "    border-color: transparent;\n",
              "    border-bottom-color: var(--fill-color);\n",
              "    animation:\n",
              "      spin 1s steps(1) infinite;\n",
              "  }\n",
              "\n",
              "  @keyframes spin {\n",
              "    0% {\n",
              "      border-color: transparent;\n",
              "      border-bottom-color: var(--fill-color);\n",
              "      border-left-color: var(--fill-color);\n",
              "    }\n",
              "    20% {\n",
              "      border-color: transparent;\n",
              "      border-left-color: var(--fill-color);\n",
              "      border-top-color: var(--fill-color);\n",
              "    }\n",
              "    30% {\n",
              "      border-color: transparent;\n",
              "      border-left-color: var(--fill-color);\n",
              "      border-top-color: var(--fill-color);\n",
              "      border-right-color: var(--fill-color);\n",
              "    }\n",
              "    40% {\n",
              "      border-color: transparent;\n",
              "      border-right-color: var(--fill-color);\n",
              "      border-top-color: var(--fill-color);\n",
              "    }\n",
              "    60% {\n",
              "      border-color: transparent;\n",
              "      border-right-color: var(--fill-color);\n",
              "    }\n",
              "    80% {\n",
              "      border-color: transparent;\n",
              "      border-right-color: var(--fill-color);\n",
              "      border-bottom-color: var(--fill-color);\n",
              "    }\n",
              "    90% {\n",
              "      border-color: transparent;\n",
              "      border-bottom-color: var(--fill-color);\n",
              "    }\n",
              "  }\n",
              "</style>\n",
              "\n",
              "      <script>\n",
              "        async function quickchart(key) {\n",
              "          const quickchartButtonEl =\n",
              "            document.querySelector('#' + key + ' button');\n",
              "          quickchartButtonEl.disabled = true;  // To prevent multiple clicks.\n",
              "          quickchartButtonEl.classList.add('colab-df-spinner');\n",
              "          try {\n",
              "            const charts = await google.colab.kernel.invokeFunction(\n",
              "                'suggestCharts', [key], {});\n",
              "          } catch (error) {\n",
              "            console.error('Error during call to suggestCharts:', error);\n",
              "          }\n",
              "          quickchartButtonEl.classList.remove('colab-df-spinner');\n",
              "          quickchartButtonEl.classList.add('colab-df-quickchart-complete');\n",
              "        }\n",
              "        (() => {\n",
              "          let quickchartButtonEl =\n",
              "            document.querySelector('#df-abae7551-5d2b-4e3c-b298-9039b975d1ce button');\n",
              "          quickchartButtonEl.style.display =\n",
              "            google.colab.kernel.accessAllowed ? 'block' : 'none';\n",
              "        })();\n",
              "      </script>\n",
              "    </div>\n",
              "\n",
              "    </div>\n",
              "  </div>\n"
            ],
            "application/vnd.google.colaboratory.intrinsic+json": {
              "type": "dataframe",
              "variable_name": "df",
              "summary": "{\n  \"name\": \"df\",\n  \"rows\": 100,\n  \"fields\": [\n    {\n      \"column\": \"Tempat Tinggal\",\n      \"properties\": {\n        \"dtype\": \"number\",\n        \"std\": 0,\n        \"min\": 0,\n        \"max\": 1,\n        \"num_unique_values\": 2,\n        \"samples\": [\n          1,\n          0\n        ],\n        \"semantic_type\": \"\",\n        \"description\": \"\"\n      }\n    },\n    {\n      \"column\": \"Pekerjaan Orang Tua\",\n      \"properties\": {\n        \"dtype\": \"category\",\n        \"num_unique_values\": 8,\n        \"samples\": [\n          \"TNI/POLRI\",\n          \"Ibu Rumah Tangga\"\n        ],\n        \"semantic_type\": \"\",\n        \"description\": \"\"\n      }\n    },\n    {\n      \"column\": \"Penghasilan Orang Tua\",\n      \"properties\": {\n        \"dtype\": \"number\",\n        \"std\": 2533128,\n        \"min\": 700000,\n        \"max\": 10000000,\n        \"num_unique_values\": 10,\n        \"samples\": [\n          7000000,\n          8000000\n        ],\n        \"semantic_type\": \"\",\n        \"description\": \"\"\n      }\n    },\n    {\n      \"column\": \"Jumlah Tanggungan Orang Tua\",\n      \"properties\": {\n        \"dtype\": \"number\",\n        \"std\": 1,\n        \"min\": 1,\n        \"max\": 5,\n        \"num_unique_values\": 5,\n        \"samples\": [\n          2,\n          1\n        ],\n        \"semantic_type\": \"\",\n        \"description\": \"\"\n      }\n    },\n    {\n      \"column\": \"Kendaraan\",\n      \"properties\": {\n        \"dtype\": \"number\",\n        \"std\": 0,\n        \"min\": 0,\n        \"max\": 2,\n        \"num_unique_values\": 3,\n        \"samples\": [\n          1,\n          2\n        ],\n        \"semantic_type\": \"\",\n        \"description\": \"\"\n      }\n    },\n    {\n      \"column\": \"Kelayakan Keringanan UKT\",\n      \"properties\": {\n        \"dtype\": \"category\",\n        \"num_unique_values\": 3,\n        \"samples\": [\n          \"0\",\n          \"1\"\n        ],\n        \"semantic_type\": \"\",\n        \"description\": \"\"\n      }\n    }\n  ]\n}"
            }
          },
          "metadata": {},
          "execution_count": 15
        }
      ]
    },
    {
      "cell_type": "markdown",
      "source": [
        "## **Menampilkan statistik deskriptif untuk kolom numerik**"
      ],
      "metadata": {
        "id": "LfEpUQqXa5E0"
      }
    },
    {
      "cell_type": "code",
      "source": [
        "angka = df.select_dtypes(include='number')\n",
        "statistik = angka.describe()\n",
        "print(statistik)"
      ],
      "metadata": {
        "id": "pt4ej4nPvfMs",
        "colab": {
          "base_uri": "https://localhost:8080/"
        },
        "outputId": "cbcc583f-19e5-4e6f-c5f8-85a4213229c7"
      },
      "execution_count": 16,
      "outputs": [
        {
          "output_type": "stream",
          "name": "stdout",
          "text": [
            "       Tempat Tinggal  Penghasilan Orang Tua  Jumlah Tanggungan Orang Tua  \\\n",
            "count      100.000000           1.000000e+02                   100.000000   \n",
            "mean         0.500000           5.427000e+06                     2.590000   \n",
            "std          0.502519           2.533128e+06                     1.129002   \n",
            "min          0.000000           7.000000e+05                     1.000000   \n",
            "25%          0.000000           3.000000e+06                     2.000000   \n",
            "50%          0.500000           5.500000e+06                     2.000000   \n",
            "75%          1.000000           8.000000e+06                     3.250000   \n",
            "max          1.000000           1.000000e+07                     5.000000   \n",
            "\n",
            "        Kendaraan  \n",
            "count  100.000000  \n",
            "mean     1.070000  \n",
            "std      0.655282  \n",
            "min      0.000000  \n",
            "25%      1.000000  \n",
            "50%      1.000000  \n",
            "75%      1.250000  \n",
            "max      2.000000  \n"
          ]
        }
      ]
    },
    {
      "cell_type": "markdown",
      "source": [
        "##**Menampilkan 10 record pertama dari atribut bertipe angka**"
      ],
      "metadata": {
        "id": "n2psuvpucrtd"
      }
    },
    {
      "cell_type": "code",
      "source": [
        "numerik_df = df.select_dtypes(include=['number'])\n",
        "\n",
        "print(numerik_df.head(10))"
      ],
      "metadata": {
        "id": "pAgfF5PBv6JW",
        "colab": {
          "base_uri": "https://localhost:8080/"
        },
        "outputId": "6fbab1cd-3ed1-444b-d426-46381588cfaf"
      },
      "execution_count": 17,
      "outputs": [
        {
          "output_type": "stream",
          "name": "stdout",
          "text": [
            "   Tempat Tinggal  Penghasilan Orang Tua  Jumlah Tanggungan Orang Tua  \\\n",
            "0               0               10000000                            3   \n",
            "1               0                8000000                            2   \n",
            "2               1                4000000                            4   \n",
            "3               1                3000000                            5   \n",
            "4               0                2000000                            2   \n",
            "5               1                5000000                            3   \n",
            "6               0                9000000                            2   \n",
            "7               1                6000000                            1   \n",
            "8               1                7000000                            2   \n",
            "9               0                3000000                            4   \n",
            "\n",
            "   Kendaraan  \n",
            "0          1  \n",
            "1          2  \n",
            "2          0  \n",
            "3          1  \n",
            "4          1  \n",
            "5          0  \n",
            "6          2  \n",
            "7          1  \n",
            "8          1  \n",
            "9          1  \n"
          ]
        }
      ]
    },
    {
      "cell_type": "markdown",
      "source": [
        "## **Menampilkan informasi umum dataset**"
      ],
      "metadata": {
        "id": "GFwTRYgLdm2i"
      }
    },
    {
      "cell_type": "code",
      "source": [
        "jumlah_record = df.shape[0]\n",
        "jumlah_atribut = df.shape[1]\n",
        "nama_atribut = df.columns.tolist()\n",
        "jumlah_numerik = df.select_dtypes(include=['number']).shape[1]\n",
        "\n",
        "print(f\"Jumlah Record         : {jumlah_record}\")\n",
        "print(f\"Jumlah Atribut        : {jumlah_atribut}\")\n",
        "print(f\"Nama Atribut          : {nama_atribut}\")\n",
        "print(f\"Jumlah numerik        : {jumlah_numerik}\")"
      ],
      "metadata": {
        "id": "axF8RfCtbXZz",
        "colab": {
          "base_uri": "https://localhost:8080/"
        },
        "outputId": "dae65821-823c-4726-81c9-a06e9225af94"
      },
      "execution_count": 18,
      "outputs": [
        {
          "output_type": "stream",
          "name": "stdout",
          "text": [
            "Jumlah Record         : 100\n",
            "Jumlah Atribut        : 6\n",
            "Nama Atribut          : ['Tempat Tinggal', 'Pekerjaan Orang Tua', 'Penghasilan Orang Tua', 'Jumlah Tanggungan Orang Tua', 'Kendaraan', 'Kelayakan Keringanan UKT']\n",
            "Jumlah numerik        : 4\n"
          ]
        }
      ]
    },
    {
      "cell_type": "markdown",
      "source": [
        "## **Jumlah label dari semua attribute yang bernilai object**"
      ],
      "metadata": {
        "id": "1V-74jsbfYdO"
      }
    },
    {
      "cell_type": "code",
      "source": [
        "df_object = df.select_dtypes(include=['object'])\n",
        "\n",
        "jumlah_label = {}\n",
        "for kolom in df_object.columns:\n",
        "    if kolom not in ['name', 'time']:\n",
        "        jumlah_label[kolom] = df[kolom].nunique()\n",
        "\n",
        "jumlah_label"
      ],
      "metadata": {
        "colab": {
          "base_uri": "https://localhost:8080/"
        },
        "id": "shMztpeIdvD-",
        "outputId": "64bdc00c-f32b-47f6-e955-cac8ad1d8e1a"
      },
      "execution_count": 19,
      "outputs": [
        {
          "output_type": "execute_result",
          "data": {
            "text/plain": [
              "{'Pekerjaan Orang Tua': 8, 'Kelayakan Keringanan UKT': 3}"
            ]
          },
          "metadata": {},
          "execution_count": 19
        }
      ]
    },
    {
      "cell_type": "markdown",
      "source": [
        "## **Diagram Batang**"
      ],
      "metadata": {
        "id": "sAZd5K8lkP_p"
      }
    },
    {
      "cell_type": "code",
      "source": [
        "# Rapikan kategori pekerjaan -> hapus spasi, ubah ke huruf besar semua\n",
        "df[\"Pekerjaan Orang Tua\"] = df[\"Pekerjaan Orang Tua\"].str.strip().str.upper()\n",
        "\n",
        "# Buat barplot per pekerjaan vs kelayakan\n",
        "plt.figure(figsize=(10,6))\n",
        "ax = sns.countplot(data=df, x=\"Pekerjaan Orang Tua\", hue=\"Kelayakan Keringanan UKT\",\n",
        "                   palette=sns.color_palette(\"rocket\"))\n",
        "\n",
        "plt.title(\"Distribusi Kelayakan Keringanan UKT Berdasarkan Pekerjaan Orang Tua\")\n",
        "plt.xlabel(\"Pekerjaan Orang Tua\")\n",
        "plt.ylabel(\"Jumlah Mahasiswa\")\n",
        "plt.xticks(rotation=45, ha=\"right\")\n",
        "\n",
        "# Tambahkan label angka di atas batang\n",
        "for p in ax.patches:\n",
        "    ax.text(p.get_x() + p.get_width()/2,\n",
        "            p.get_height() + 0.5,\n",
        "            str(int(p.get_height())),\n",
        "            ha='center', va='bottom')\n",
        "\n",
        "plt.tight_layout()\n",
        "plt.show()"
      ],
      "metadata": {
        "colab": {
          "base_uri": "https://localhost:8080/",
          "height": 642
        },
        "id": "oRlbDoaKfoqk",
        "outputId": "d069e8da-cf46-4160-e7ad-3013a4d57e0b"
      },
      "execution_count": 20,
      "outputs": [
        {
          "output_type": "stream",
          "name": "stderr",
          "text": [
            "/tmp/ipython-input-944434243.py:6: UserWarning: The palette list has more values (6) than needed (3), which may not be intended.\n",
            "  ax = sns.countplot(data=df, x=\"Pekerjaan Orang Tua\", hue=\"Kelayakan Keringanan UKT\",\n"
          ]
        },
        {
          "output_type": "display_data",
          "data": {
            "text/plain": [
              "<Figure size 1000x600 with 1 Axes>"
            ],
            "image/png": "[encoded data removed]"
          },
          "metadata": {}
        }
      ]
    },
    {
      "cell_type": "markdown",
      "source": [
        "Dari diagram batang di atas dapat dilihat bahwa distribusi kelayakan keringanan UKT berbeda-beda pada tiap kategori pekerjaan orang tua. Beberapa pekerjaan, seperti TNI/POLRI, Guru, dan Wiraswasta, didominasi oleh mahasiswa yang layak menerima keringanan UKT. Sebaliknya, pekerjaan seperti Petani dan Nelayan lebih banyak menghasilkan mahasiswa yang tidak layak menerima keringanan. Pada kategori PNS, jumlah mahasiswa yang layak dan tidak layak relatif seimbang. Hal ini menunjukkan bahwa pekerjaan orang tua berpengaruh terhadap klasifikasi kelayakan keringanan UKT, meskipun kecenderungan tiap pekerjaan tidak selalu sama.\n",
        "\n",
        "Terkait munculnya label “1 1” pada diagram (di kategori PNS), bukan karena ada kelas baru, melainkan akibat adanya data ganda atau inkonsistensi penulisan nilai pada kolom Kelayakan Keringanan UKT. Contohnya, sebagian data berisi \"1 \" (dengan spasi) atau \"1.0\" sehingga dianggap sebagai kategori berbeda dari angka 1 murni. Jika data dibersihkan dan distandarkan, label tersebut akan hilang dan hanya menyisakan dua kategori utama: 0 (Tidak Layak) dan 1 (Layak)."
      ],
      "metadata": {
        "id": "mACJHQx5ljwF"
      }
    },
    {
      "cell_type": "markdown",
      "source": [
        "## **Korelasi menggunakan Headmap**"
      ],
      "metadata": {
        "id": "UiCF89Lnlwva"
      }
    },
    {
      "cell_type": "code",
      "source": [
        "# Ambil hanya kolom numerik\n",
        "numerik_df = df.select_dtypes(include=['int64', 'float64'])\n",
        "\n",
        "# Hitung matriks korelasi\n",
        "cor_matrix = numerik_df.corr()\n",
        "\n",
        "# Plot heatmap\n",
        "plt.figure(figsize=(8,6))\n",
        "sns.heatmap(cor_matrix, cmap='coolwarm', annot=True, center=0, fmt=\".2f\")\n",
        "\n",
        "plt.title(\"Heatmap Korelasi Antar Variabel Numerik pada Dataset Mahasiswa\")\n",
        "plt.show()"
      ],
      "metadata": {
        "colab": {
          "base_uri": "https://localhost:8080/",
          "height": 743
        },
        "id": "XuehUjdXjs8r",
        "outputId": "637e91d8-b21a-4f62-ab45-d9b9585da8fa"
      },
      "execution_count": 21,
      "outputs": [
        {
          "output_type": "display_data",
          "data": {
            "text/plain": [
              "<Figure size 800x600 with 2 Axes>"
            ],
            "image/png": "[encoded data removed]"
          },
          "metadata": {}
        }
      ]
    },
    {
      "cell_type": "markdown",
      "source": [
        "Berdasarkan hasil visualisasi menggunakan heatmap korelasi, terlihat bahwa variabel Penghasilan Orang Tua memiliki korelasi positif yang cukup kuat dengan Kelayakan Keringanan UKT. Artinya, semakin tinggi penghasilan orang tua, semakin kecil kemungkinan mahasiswa tersebut memperoleh keringanan UKT. Sebaliknya, variabel Jumlah Tanggungan Orang Tua menunjukkan korelasi negatif dengan Kelayakan Keringanan UKT, yang menandakan bahwa semakin banyak jumlah tanggungan dalam keluarga, semakin besar peluang mahasiswa dinyatakan layak menerima keringanan UKT. Sementara itu, variabel Kendaraan memiliki korelasi yang cenderung positif dengan penghasilan, namun hubungannya dengan keringanan UKT tidak terlalu signifikan. Hal ini menunjukkan bahwa penentu utama dalam klasifikasi kelayakan keringanan UKT lebih dipengaruhi oleh faktor ekonomi keluarga (penghasilan dan jumlah tanggungan) dibandingkan dengan faktor lain."
      ],
      "metadata": {
        "id": "PKLSzuqfl2I0"
      }
    },
    {
      "cell_type": "markdown",
      "source": [
        "**Kesimpulan Analisis Data**\n",
        "\n",
        "1. Distribusi Kelayakan UKT\n",
        "    Jumlah mahasiswa yang layak mendapatkan keringanan UKT lebih banyak dibandingkan dengan yang tidak layak. Hal ini mengindikasikan bahwa sebagian besar mahasiswa dalam dataset memiliki kondisi yang memenuhi kriteria keringanan.\n",
        "\n",
        "2. Pengaruh Pekerjaan Orang Tua\n",
        "    Visualisasi perbandingan menunjukkan bahwa pekerjaan orang tua cukup memengaruhi status kelayakan. Mahasiswa dengan orang tua yang berprofesi sebagai buruh, nelayan, dan petani cenderung lebih banyak masuk kategori layak, sedangkan mahasiswa dengan orang tua berpenghasilan tetap atau lebih tinggi (seperti PNS dan wiraswasta) lebih banyak yang tidak layak.\n",
        "\n",
        "3. Hubungan dengan Faktor Ekonomi\n",
        "    Hasil heatmap korelasi menunjukkan bahwa variabel Penghasilan Orang Tua berkorelasi positif dengan status tidak layak, sedangkan Jumlah Tanggungan Orang Tua berkorelasi negatif. Artinya, semakin tinggi penghasilan, semakin kecil peluang mendapat keringanan; sebaliknya, semakin banyak tanggungan keluarga, semakin besar peluang layak menerima keringanan UKT.\n",
        "\n",
        "4. Variabel Kendaraan\n",
        "    Kepemilikan kendaraan memiliki hubungan yang lebih lemah terhadap kelayakan UKT dibandingkan faktor penghasilan dan jumlah tanggungan, namun tetap menunjukkan kecenderungan bahwa semakin banyak kendaraan yang dimiliki keluarga, semakin kecil kemungkinan mahasiswa layak menerima keringanan."
      ],
      "metadata": {
        "id": "ufs7R8KxnP_d"
      }
    },
    {
      "cell_type": "markdown",
      "source": [
        "**Kesimpulan Utama** analisis dataset menunjukkan bahwa kelayakan keringanan UKT mahasiswa sangat dipengaruhi oleh kondisi ekonomi keluarga. Faktor yang paling dominan adalah penghasilan orang tua dan jumlah tanggungan, di mana mahasiswa dengan penghasilan orang tua rendah serta jumlah tanggungan yang lebih banyak cenderung lebih layak menerima keringanan. Pekerjaan orang tua juga berperan sebagai indikator tidak langsung terhadap kemampuan ekonomi, di mana mahasiswa dari keluarga dengan pekerjaan sektor informal (buruh, petani, nelayan) lebih sering masuk kategori layak dibandingkan dengan mahasiswa dari keluarga PNS atau wiraswasta. Secara umum, hasil analisis menegaskan bahwa keringanan UKT memang lebih banyak diberikan kepada mahasiswa yang berasal dari keluarga dengan keterbatasan ekonomi, sehingga kebijakan penentuan keringanan UKT sudah sesuai dengan tujuan untuk mendukung pemerataan akses pendidikan tinggi."
      ],
      "metadata": {
        "id": "84wQqn9Tnwpj"
      }
    },
    {
      "cell_type": "markdown",
      "source": [
        "### **Nambah Kolom NIM**"
      ],
      "metadata": {
        "id": "77CivkqHSLSZ"
      }
    },
    {
      "cell_type": "code",
      "source": [
        "df['NIM'] = range(1, len(df) + 1)\n",
        "\n",
        "df = df[['NIM'] + [col for col in df.columns if col != 'NIM']]\n",
        "\n",
        "df.to_csv(\"dataset_mahasiswa_with_nim.csv\", index=False)"
      ],
      "metadata": {
        "id": "_RAkousP1nWz"
      },
      "execution_count": 30,
      "outputs": []
    },
    {
      "cell_type": "code",
      "source": [
        "df = pd.read_csv('/content/dataset_mahasiswa_with_nim.csv')"
      ],
      "metadata": {
        "id": "tvcg8ZbH2nX5"
      },
      "execution_count": 33,
      "outputs": []
    },
    {
      "cell_type": "markdown",
      "source": [
        "saya nambahin kolom NIM supaya setiap baris data punya identitas unik dan nggak dianggap duplikat hanya karena isinya sama di beberapa kolom lain.\n",
        "\n",
        "Sebelumnya, dataset saya belum punya kolom yang unik, jadi beberapa data mahasiswa yang kebetulan punya kondisi ekonomi atau latar belakang sama malah terdeteksi sebagai duplikat. Padahal bisa aja mereka memang mahasiswa yang berbeda, cuma datanya mirip.\n",
        "\n",
        "Dengan nambahin kolom NIM (Nomor Induk Mahasiswa) sebagai ID unik, saya bisa ngenalin setiap baris data satu per satu tanpa harus ngubah nilai-nilai aslinya. Jadi, datanya tetap asli dan rapi, tapi sekarang bisa dibedain dengan jelas antar barisnya."
      ],
      "metadata": {
        "id": "q4QMg0CtRg1-"
      }
    },
    {
      "cell_type": "markdown",
      "source": [
        "### **Data Cleaning**"
      ],
      "metadata": {
        "id": "rcCfaSJedDcl"
      }
    },
    {
      "cell_type": "markdown",
      "source": [
        "### **Handling Missing Value**"
      ],
      "metadata": {
        "id": "uuW2rD2U5vzc"
      }
    },
    {
      "cell_type": "code",
      "source": [
        "print(df.isnull().sum())"
      ],
      "metadata": {
        "colab": {
          "base_uri": "https://localhost:8080/"
        },
        "id": "f_1TGkZ1S5hY",
        "outputId": "af2267ad-a103-4ae7-c7b8-5e0017348cbd"
      },
      "execution_count": 105,
      "outputs": [
        {
          "output_type": "stream",
          "name": "stdout",
          "text": [
            "NIM                            0\n",
            "Tempat Tinggal                 0\n",
            "Pekerjaan Orang Tua            0\n",
            "Penghasilan Orang Tua          0\n",
            "Jumlah Tanggungan Orang Tua    0\n",
            "Kendaraan                      0\n",
            "Kelayakan Keringanan UKT       0\n",
            "Penghasilan_Standar            0\n",
            "Tanggungan_Standar             0\n",
            "Kendaraan_Standar              0\n",
            "Kategori_Penghasilan           0\n",
            "dtype: int64\n"
          ]
        }
      ]
    },
    {
      "cell_type": "markdown",
      "source": [
        "di awal saya meriksa apakah ada data yang kosong di setiap kolom.  Setelah proses pengecekan selesai, hasilnya menunjukkan bahwa di dataset saya tidak terdapat null. Dengan demikian, tabel saya nggak perlu melakukan pengisian atau pembersihan data tambahan.\n"
      ],
      "metadata": {
        "id": "BNDE8Fzhev6u"
      }
    },
    {
      "cell_type": "markdown",
      "source": [
        "###**Handling Duplicate Value**"
      ],
      "metadata": {
        "id": "LUu14cSx6CBF"
      }
    },
    {
      "cell_type": "code",
      "source": [
        "dups = df[df.duplicated()]\n",
        "print(\"Jumlah baris duplikat:\", dups.shape[0])"
      ],
      "metadata": {
        "colab": {
          "base_uri": "https://localhost:8080/"
        },
        "id": "caABjQDq6FTv",
        "outputId": "9a6ace12-1a94-41bb-a79c-d31da3b59789"
      },
      "execution_count": 104,
      "outputs": [
        {
          "output_type": "stream",
          "name": "stdout",
          "text": [
            "Jumlah baris duplikat: 0\n"
          ]
        }
      ]
    },
    {
      "cell_type": "markdown",
      "source": [
        "di bagian ini saya lakuin pengecekan dan disini menunjukkan bahwa tidak ada baris duplikat pada dataset. Kondisi ini terjadi karena sebelumnya telah ditambahkan kolom NIM sebagai identitas unik untuk setiap mahasiswa. Sebelum kolom NIM ditambahkan, dataset sempat memiliki 77 baris duplikat karena tidak ada kolom yang bisa menjadi pembeda antar data. Setelah adanya kolom NIM, setiap baris kini memiliki nilai unik sehingga masalah duplikasi berhasil diatasi sepenuhnya."
      ],
      "metadata": {
        "id": "VC1QA1bLfhc0"
      }
    },
    {
      "cell_type": "markdown",
      "source": [
        "### **Handling Outlier**"
      ],
      "metadata": {
        "id": "ZVRVd-Bu6pTt"
      }
    },
    {
      "cell_type": "code",
      "source": [
        "Q1 = df['Penghasilan Orang Tua'].quantile(0.25)\n",
        "Q3 = df['Penghasilan Orang Tua'].quantile(0.75)\n",
        "IQR = Q3 - Q1\n",
        "\n",
        "lower_bound = Q1 - 1.5 * IQR\n",
        "upper_bound = Q3 + 1.5 * IQR\n",
        "\n",
        "outlier_penghasilan = df[(df['Penghasilan Orang Tua'] < lower_bound) |\n",
        "                         (df['Penghasilan Orang Tua'] > upper_bound)]\n",
        "\n",
        "if outlier_penghasilan.empty:\n",
        "    print(\"Tidak ada outlier ditemukan pada 'Penghasilan Orang Tua'.\\n\")\n",
        "else:\n",
        "    print(\"Ditemukan outlier pada 'Penghasilan Orang Tua':\")\n",
        "    print(outlier_penghasilan[['NIM','Penghasilan Orang Tua']])\n",
        "    print(\"\\nNamun, berdasarkan analisis konteks, nilai 2 juta dan 8 juta merupakan variasi wajar,\")\n",
        "    print(\"sehingga outlier ini tetap dipertahankan dalam dataset (tidak dihapus).\")"
      ],
      "metadata": {
        "colab": {
          "base_uri": "https://localhost:8080/"
        },
        "id": "WTUMTPNj6tgO",
        "outputId": "0cb1a411-6921-4cee-e263-b8c4804548cf"
      },
      "execution_count": 107,
      "outputs": [
        {
          "output_type": "stream",
          "name": "stdout",
          "text": [
            "Tidak ada outlier ditemukan pada 'Penghasilan Orang Tua'.\n",
            "\n"
          ]
        }
      ]
    },
    {
      "cell_type": "markdown",
      "source": [
        "Saya ngelakuin analisis pada kolom “Penghasilan Orang Tua” untuk ngelihat apakah ada nilai yang termasuk outlier. Metodenya menggunakan IQR (Interquartile Range) untuk menentukan batas bawah dan batas atas dari rentang nilai yang dianggap wajar.\n",
        "\n",
        "Hasilnya nunjukkin ada beberapa nilai yang tampak berbeda, seperti 2 juta dan 8 juta. Tapi, perbedaan tersebut masih tergolong wajar karena variasi penghasilan orang tua memang bisa cukup besar antar mahasiswa.\n",
        "\n",
        "Makanya, saya tidak lakuin cleaning outlier, karena nilai-nilai tersebut tetap relevan dan masih mewakili kondisi sebenarnya dalam data."
      ],
      "metadata": {
        "id": "NRub_dYpXUY3"
      }
    },
    {
      "cell_type": "markdown",
      "source": [
        "### **Memperbaiki Data Anomali**"
      ],
      "metadata": {
        "id": "1KRVZt43PDRx"
      }
    },
    {
      "cell_type": "code",
      "source": [
        "df['Kelayakan Keringanan UKT'] = df['Kelayakan Keringanan UKT'].replace('1 1', 1)"
      ],
      "metadata": {
        "id": "vR6VIVItOjOo"
      },
      "execution_count": 89,
      "outputs": []
    },
    {
      "cell_type": "markdown",
      "source": [
        "Sebelumnya, waktu saya buat diagram batang, disitu sempat muncul label aneh “1 1” di kategori PNS. Itu bukan karena ada kelas baru, tapi akibat inkonsistensi penulisan di kolom “Kelayakan Keringanan UKT”, karena ada data yang ditulis “1 1”.\n",
        "\n",
        "Supaya hasil analisis lebih rapi dan kategori yang muncul sesuai saya bersihin datanya dengan mengganti nilai “1 1” jadi 1. Dengan begitu, label ganda di diagram nggak muncul lagi dan datanya jadi konsisten."
      ],
      "metadata": {
        "id": "T4iQGW_rYr9M"
      }
    },
    {
      "cell_type": "markdown",
      "source": [
        "### **Standarisasi kolom numerik**"
      ],
      "metadata": {
        "id": "bzKqAii394mV"
      }
    },
    {
      "cell_type": "markdown",
      "source": [
        "*Penghasilan Orang Tua*"
      ],
      "metadata": {
        "id": "UPfFFBpFEdhQ"
      }
    },
    {
      "cell_type": "code",
      "source": [
        "print(\"Penghasilan Orang Tua :\", df['Penghasilan Orang Tua'].unique())"
      ],
      "metadata": {
        "colab": {
          "base_uri": "https://localhost:8080/"
        },
        "id": "gxqnf0gy9-zQ",
        "outputId": "e4239aa6-fd42-4242-f728-e2a3d075bca6"
      },
      "execution_count": 73,
      "outputs": [
        {
          "output_type": "stream",
          "name": "stdout",
          "text": [
            "Penghasilan Orang Tua : [10000000  8000000  4000000  3000000  2000000  5000000  9000000  6000000\n",
            "  7000000   700000]\n"
          ]
        }
      ]
    },
    {
      "cell_type": "code",
      "source": [
        "df['Penghasilan_Standar'] = (df['Penghasilan Orang Tua'] - df['Penghasilan Orang Tua'].mean()) / df['Penghasilan Orang Tua'].std()\n",
        "\n",
        "print(\"Penghasilan Orang Tua :\", df['Penghasilan_Standar'].unique())"
      ],
      "metadata": {
        "colab": {
          "base_uri": "https://localhost:8080/"
        },
        "id": "pIKu87R0BSjX",
        "outputId": "13d6c3ec-bd9b-4085-e0f7-716bf17078d0"
      },
      "execution_count": 72,
      "outputs": [
        {
          "output_type": "stream",
          "name": "stdout",
          "text": [
            "Penghasilan Orang Tua : [ 1.80527777  1.01574015 -0.56333509 -0.9581039  -1.35287271 -0.16856628\n",
            "  1.41050896  0.22620253  0.62097134 -1.86607217]\n"
          ]
        }
      ]
    },
    {
      "cell_type": "markdown",
      "source": [
        "Di tahap ini saya menampilkan nilai-nilai unik yang ada di kolom “Penghasilan Orang Tua” terlebih dahulu. Tujuannya supaya saya tahu sebaran datanya kayak gimana sebelum diolah, apakah banyak variasi nilai atau cenderung sama. Setelah itu, saya lanjut dengan membuat kolom baru yang saya kasih nama “Penghasilan_Standar”. Di kolom ini, saya ubah semua nilai penghasilan jadi bentuk standar menggunakan rumus z-score, yaitu mengurangkan setiap nilai dengan rata-ratanya, lalu dibagi dengan standar deviasinya."
      ],
      "metadata": {
        "id": "vHM8i2q6aOkP"
      }
    },
    {
      "cell_type": "markdown",
      "source": [
        "*Jumlah Tanggungan Orang Tua*"
      ],
      "metadata": {
        "id": "rFCJ-jKCFDJU"
      }
    },
    {
      "cell_type": "code",
      "source": [
        "print(\"Jumlah Tanggungan Orang Tua :\", df['Jumlah Tanggungan Orang Tua'].unique())"
      ],
      "metadata": {
        "colab": {
          "base_uri": "https://localhost:8080/"
        },
        "id": "GzW12arvFIH_",
        "outputId": "255db0e9-2128-4be8-d8f0-d3d49a77236b"
      },
      "execution_count": 74,
      "outputs": [
        {
          "output_type": "stream",
          "name": "stdout",
          "text": [
            "Jumlah Tanggungan Orang Tua : [3 2 4 5 1]\n"
          ]
        }
      ]
    },
    {
      "cell_type": "code",
      "source": [
        "df['Tanggungan_Standar'] = (df['Jumlah Tanggungan Orang Tua'] - df['Jumlah Tanggungan Orang Tua'].mean()) / df['Jumlah Tanggungan Orang Tua'].std()\n",
        "print(\"Jumlah Tanggungan Orang Tua :\", df['Tanggungan_Standar'].unique())"
      ],
      "metadata": {
        "colab": {
          "base_uri": "https://localhost:8080/"
        },
        "id": "YCIp51WPFQv2",
        "outputId": "04f34840-116c-4c43-8b9e-71c81d3a2948"
      },
      "execution_count": 70,
      "outputs": [
        {
          "output_type": "stream",
          "name": "stdout",
          "text": [
            "Jumlah Tanggungan Orang Tua : [ 0.36315245 -0.52258524  1.24889015  2.13462784 -1.40832293]\n"
          ]
        }
      ]
    },
    {
      "cell_type": "markdown",
      "source": [
        "Di tahap ini saya menampilkan nilai-nilai unik yang ada di kolom “Jumlah Tanggungan Orang Tua” terlebih dahulu. Tujuannya supaya saya tahu sebaran datanya seperti apa sebelum diolah, apakah jumlah tanggungannya bervariasi atau cenderung sama. Setelah itu, saya membuat kolom baru yang saya kasih nama “Tanggungan_Standar”. Di kolom ini, saya ubah semua nilai jumlah tanggungan jadi bentuk standar menggunakan rumus z-score, yaitu dengan cara mengurangkan setiap nilai dengan rata-ratanya, lalu dibagi dengan standar deviasinya."
      ],
      "metadata": {
        "id": "Oc6KidqzbMmt"
      }
    },
    {
      "cell_type": "markdown",
      "source": [
        "*Kendaraan*"
      ],
      "metadata": {
        "id": "V2Gdl2wcFeaH"
      }
    },
    {
      "cell_type": "code",
      "source": [
        "print(\"Kendaraan :\", df['Kendaraan'].unique())"
      ],
      "metadata": {
        "colab": {
          "base_uri": "https://localhost:8080/"
        },
        "id": "t9Zf3DaPFxsJ",
        "outputId": "440596e0-e86a-48d0-ed75-8f7aa23babd9"
      },
      "execution_count": 75,
      "outputs": [
        {
          "output_type": "stream",
          "name": "stdout",
          "text": [
            "Kendaraan : [1 2 0]\n"
          ]
        }
      ]
    },
    {
      "cell_type": "code",
      "source": [
        "df['Kendaraan_Standar'] = (df['Kendaraan'] - df['Kendaraan'].mean()) / df['Kendaraan'].std()\n",
        "print(\"Kendaraan :\", df['Kendaraan_Standar'].unique())"
      ],
      "metadata": {
        "colab": {
          "base_uri": "https://localhost:8080/"
        },
        "id": "L05xm3ujF4GA",
        "outputId": "86aaa04f-8006-41b0-db0c-0a27925c27e7"
      },
      "execution_count": 76,
      "outputs": [
        {
          "output_type": "stream",
          "name": "stdout",
          "text": [
            "Kendaraan : [-0.10682431  1.41923722 -1.63288584]\n"
          ]
        }
      ]
    },
    {
      "cell_type": "markdown",
      "source": [
        "Di tahap ini saya menampilkan nilai-nilai unik yang ada di kolom “Kendaraan” terlebih dahulu. Tujuannya supaya saya tahu sebaran datanya seperti apa sebelum diolah, apakah jumlah kendaraan yang dimiliki orang tua bervariasi atau hampir sama di setiap data. Setelah itu, saya membuat kolom baru yang saya kasih nama “Kendaraan_Standar”. Di kolom ini, saya ubah semua nilai kendaraan jadi bentuk standar menggunakan rumus z-score, yaitu dengan cara mengurangkan setiap nilai dengan rata-ratanya, lalu dibagi dengan standar deviasinya."
      ],
      "metadata": {
        "id": "ernGgcN3bepU"
      }
    },
    {
      "cell_type": "markdown",
      "source": [
        "### **Hapus normalisasi**"
      ],
      "metadata": {
        "id": "7gu-r4CjbhSC"
      }
    },
    {
      "cell_type": "code",
      "source": [
        "df = df.drop(columns=['Penghasilan_Normalized'], errors='ignore')"
      ],
      "metadata": {
        "id": "0d9O8pH4IMJL"
      },
      "execution_count": 80,
      "outputs": []
    },
    {
      "cell_type": "markdown",
      "source": [
        "Di bagian ini saya hapus kolom “Penghasilan_Normalized” dari dataset. Sebenarnya, awalnya saya sempat coba pakai metode normalisasi buat ngolah data penghasilan, tapi setelah saya pikir lagi, metode itu kurang cocok. Soalnya, untuk data seperti penghasilan yang skalanya bisa jauh banget antar satu dengan yang lain, lebih pas kalau pakai standarisasi. Dengan standarisasi, data tetap bisa dibandingkan dengan adil tanpa harus “memaksa” semuanya ke rentang 0 sampai 1 seperti di normalisasi. Makanya, kolom hasil normalisasi saya hapus supaya data yang saya pakai tetap konsisten dan sesuai kebutuhan analisis."
      ],
      "metadata": {
        "id": "G07SGoXcb4cp"
      }
    },
    {
      "cell_type": "markdown",
      "source": [
        "###**One-Hot Encoding**"
      ],
      "metadata": {
        "id": "qBbJB2cpHg4H"
      }
    },
    {
      "cell_type": "code",
      "source": [
        "df_encoded = pd.get_dummies(df, columns=['Pekerjaan Orang Tua'])\n",
        "\n",
        "import pandas as pd\n",
        "from IPython.display import display\n",
        "\n",
        "display(df_encoded.head(10))"
      ],
      "metadata": {
        "colab": {
          "base_uri": "https://localhost:8080/",
          "height": 452
        },
        "id": "LnobaMiJHsUD",
        "outputId": "c074fae3-00ff-400c-d39e-5eb0fb17737a"
      },
      "execution_count": 109,
      "outputs": [
        {
          "output_type": "display_data",
          "data": {
            "text/plain": [
              "   NIM  Tempat Tinggal  Penghasilan Orang Tua  Jumlah Tanggungan Orang Tua  \\\n",
              "0    1               0               10000000                            3   \n",
              "1    2               0                8000000                            2   \n",
              "2    3               1                4000000                            4   \n",
              "3    4               1                3000000                            5   \n",
              "4    5               0                2000000                            2   \n",
              "5    6               1                5000000                            3   \n",
              "6    7               0                9000000                            2   \n",
              "7    8               1                6000000                            1   \n",
              "8    9               1                7000000                            2   \n",
              "9   10               0                3000000                            4   \n",
              "\n",
              "   Kendaraan Kelayakan Keringanan UKT  Penghasilan_Standar  \\\n",
              "0          1                        0             1.805278   \n",
              "1          2                        1             1.015740   \n",
              "2          0                        0            -0.563335   \n",
              "3          1                        0            -0.958104   \n",
              "4          1                        1            -1.352873   \n",
              "5          0                        0            -0.168566   \n",
              "6          2                        1             1.410509   \n",
              "7          1                        1             0.226203   \n",
              "8          1                        1             0.620971   \n",
              "9          1                        0            -0.958104   \n",
              "\n",
              "   Tanggungan_Standar  Kendaraan_Standar Kategori_Penghasilan  \\\n",
              "0            0.363152          -0.106824                 High   \n",
              "1           -0.522585           1.419237                 High   \n",
              "2            1.248890          -1.632886               Medium   \n",
              "3            2.134628          -0.106824                  Low   \n",
              "4           -0.522585          -0.106824                  Low   \n",
              "5            0.363152          -1.632886               Medium   \n",
              "6           -0.522585           1.419237                 High   \n",
              "7           -1.408323          -0.106824               Medium   \n",
              "8           -0.522585          -0.106824                 High   \n",
              "9            1.248890          -0.106824                  Low   \n",
              "\n",
              "   Pekerjaan Orang Tua_BURUH  Pekerjaan Orang Tua_GURU  \\\n",
              "0                      False                     False   \n",
              "1                      False                     False   \n",
              "2                      False                     False   \n",
              "3                      False                     False   \n",
              "4                       True                     False   \n",
              "5                      False                     False   \n",
              "6                      False                     False   \n",
              "7                      False                     False   \n",
              "8                      False                      True   \n",
              "9                      False                     False   \n",
              "\n",
              "   Pekerjaan Orang Tua_IBU RUMAH TANGGA  Pekerjaan Orang Tua_NELAYAN  \\\n",
              "0                                 False                        False   \n",
              "1                                 False                        False   \n",
              "2                                 False                        False   \n",
              "3                                 False                         True   \n",
              "4                                 False                        False   \n",
              "5                                  True                        False   \n",
              "6                                 False                        False   \n",
              "7                                 False                        False   \n",
              "8                                 False                        False   \n",
              "9                                  True                        False   \n",
              "\n",
              "   Pekerjaan Orang Tua_PETANI  Pekerjaan Orang Tua_PNS  \\\n",
              "0                       False                     True   \n",
              "1                       False                    False   \n",
              "2                        True                    False   \n",
              "3                       False                    False   \n",
              "4                       False                    False   \n",
              "5                       False                    False   \n",
              "6                       False                     True   \n",
              "7                       False                    False   \n",
              "8                       False                    False   \n",
              "9                       False                    False   \n",
              "\n",
              "   Pekerjaan Orang Tua_TNI/POLRI  Pekerjaan Orang Tua_WIRASWASTA  \n",
              "0                          False                           False  \n",
              "1                           True                           False  \n",
              "2                          False                           False  \n",
              "3                          False                           False  \n",
              "4                          False                           False  \n",
              "5                          False                           False  \n",
              "6                          False                           False  \n",
              "7                          False                            True  \n",
              "8                          False                           False  \n",
              "9                          False                           False  "
            ],
            "text/html": [
              "\n",
              "  <div id=\"df-a0187540-4f20-4458-bc71-e15230d4296e\" class=\"colab-df-container\">\n",
              "    <div>\n",
              "<style scoped>\n",
              "    .dataframe tbody tr th:only-of-type {\n",
              "        vertical-align: middle;\n",
              "    }\n",
              "\n",
              "    .dataframe tbody tr th {\n",
              "        vertical-align: top;\n",
              "    }\n",
              "\n",
              "    .dataframe thead th {\n",
              "        text-align: right;\n",
              "    }\n",
              "</style>\n",
              "<table border=\"1\" class=\"dataframe\">\n",
              "  <thead>\n",
              "    <tr style=\"text-align: right;\">\n",
              "      <th></th>\n",
              "      <th>NIM</th>\n",
              "      <th>Tempat Tinggal</th>\n",
              "      <th>Penghasilan Orang Tua</th>\n",
              "      <th>Jumlah Tanggungan Orang Tua</th>\n",
              "      <th>Kendaraan</th>\n",
              "      <th>Kelayakan Keringanan UKT</th>\n",
              "      <th>Penghasilan_Standar</th>\n",
              "      <th>Tanggungan_Standar</th>\n",
              "      <th>Kendaraan_Standar</th>\n",
              "      <th>Kategori_Penghasilan</th>\n",
              "      <th>Pekerjaan Orang Tua_BURUH</th>\n",
              "      <th>Pekerjaan Orang Tua_GURU</th>\n",
              "      <th>Pekerjaan Orang Tua_IBU RUMAH TANGGA</th>\n",
              "      <th>Pekerjaan Orang Tua_NELAYAN</th>\n",
              "      <th>Pekerjaan Orang Tua_PETANI</th>\n",
              "      <th>Pekerjaan Orang Tua_PNS</th>\n",
              "      <th>Pekerjaan Orang Tua_TNI/POLRI</th>\n",
              "      <th>Pekerjaan Orang Tua_WIRASWASTA</th>\n",
              "    </tr>\n",
              "  </thead>\n",
              "  <tbody>\n",
              "    <tr>\n",
              "      <th>0</th>\n",
              "      <td>1</td>\n",
              "      <td>0</td>\n",
              "      <td>10000000</td>\n",
              "      <td>3</td>\n",
              "      <td>1</td>\n",
              "      <td>0</td>\n",
              "      <td>1.805278</td>\n",
              "      <td>0.363152</td>\n",
              "      <td>-0.106824</td>\n",
              "      <td>High</td>\n",
              "      <td>False</td>\n",
              "      <td>False</td>\n",
              "      <td>False</td>\n",
              "      <td>False</td>\n",
              "      <td>False</td>\n",
              "      <td>True</td>\n",
              "      <td>False</td>\n",
              "      <td>False</td>\n",
              "    </tr>\n",
              "    <tr>\n",
              "      <th>1</th>\n",
              "      <td>2</td>\n",
              "      <td>0</td>\n",
              "      <td>8000000</td>\n",
              "      <td>2</td>\n",
              "      <td>2</td>\n",
              "      <td>1</td>\n",
              "      <td>1.015740</td>\n",
              "      <td>-0.522585</td>\n",
              "      <td>1.419237</td>\n",
              "      <td>High</td>\n",
              "      <td>False</td>\n",
              "      <td>False</td>\n",
              "      <td>False</td>\n",
              "      <td>False</td>\n",
              "      <td>False</td>\n",
              "      <td>False</td>\n",
              "      <td>True</td>\n",
              "      <td>False</td>\n",
              "    </tr>\n",
              "    <tr>\n",
              "      <th>2</th>\n",
              "      <td>3</td>\n",
              "      <td>1</td>\n",
              "      <td>4000000</td>\n",
              "      <td>4</td>\n",
              "      <td>0</td>\n",
              "      <td>0</td>\n",
              "      <td>-0.563335</td>\n",
              "      <td>1.248890</td>\n",
              "      <td>-1.632886</td>\n",
              "      <td>Medium</td>\n",
              "      <td>False</td>\n",
              "      <td>False</td>\n",
              "      <td>False</td>\n",
              "      <td>False</td>\n",
              "      <td>True</td>\n",
              "      <td>False</td>\n",
              "      <td>False</td>\n",
              "      <td>False</td>\n",
              "    </tr>\n",
              "    <tr>\n",
              "      <th>3</th>\n",
              "      <td>4</td>\n",
              "      <td>1</td>\n",
              "      <td>3000000</td>\n",
              "      <td>5</td>\n",
              "      <td>1</td>\n",
              "      <td>0</td>\n",
              "      <td>-0.958104</td>\n",
              "      <td>2.134628</td>\n",
              "      <td>-0.106824</td>\n",
              "      <td>Low</td>\n",
              "      <td>False</td>\n",
              "      <td>False</td>\n",
              "      <td>False</td>\n",
              "      <td>True</td>\n",
              "      <td>False</td>\n",
              "      <td>False</td>\n",
              "      <td>False</td>\n",
              "      <td>False</td>\n",
              "    </tr>\n",
              "    <tr>\n",
              "      <th>4</th>\n",
              "      <td>5</td>\n",
              "      <td>0</td>\n",
              "      <td>2000000</td>\n",
              "      <td>2</td>\n",
              "      <td>1</td>\n",
              "      <td>1</td>\n",
              "      <td>-1.352873</td>\n",
              "      <td>-0.522585</td>\n",
              "      <td>-0.106824</td>\n",
              "      <td>Low</td>\n",
              "      <td>True</td>\n",
              "      <td>False</td>\n",
              "      <td>False</td>\n",
              "      <td>False</td>\n",
              "      <td>False</td>\n",
              "      <td>False</td>\n",
              "      <td>False</td>\n",
              "      <td>False</td>\n",
              "    </tr>\n",
              "    <tr>\n",
              "      <th>5</th>\n",
              "      <td>6</td>\n",
              "      <td>1</td>\n",
              "      <td>5000000</td>\n",
              "      <td>3</td>\n",
              "      <td>0</td>\n",
              "      <td>0</td>\n",
              "      <td>-0.168566</td>\n",
              "      <td>0.363152</td>\n",
              "      <td>-1.632886</td>\n",
              "      <td>Medium</td>\n",
              "      <td>False</td>\n",
              "      <td>False</td>\n",
              "      <td>True</td>\n",
              "      <td>False</td>\n",
              "      <td>False</td>\n",
              "      <td>False</td>\n",
              "      <td>False</td>\n",
              "      <td>False</td>\n",
              "    </tr>\n",
              "    <tr>\n",
              "      <th>6</th>\n",
              "      <td>7</td>\n",
              "      <td>0</td>\n",
              "      <td>9000000</td>\n",
              "      <td>2</td>\n",
              "      <td>2</td>\n",
              "      <td>1</td>\n",
              "      <td>1.410509</td>\n",
              "      <td>-0.522585</td>\n",
              "      <td>1.419237</td>\n",
              "      <td>High</td>\n",
              "      <td>False</td>\n",
              "      <td>False</td>\n",
              "      <td>False</td>\n",
              "      <td>False</td>\n",
              "      <td>False</td>\n",
              "      <td>True</td>\n",
              "      <td>False</td>\n",
              "      <td>False</td>\n",
              "    </tr>\n",
              "    <tr>\n",
              "      <th>7</th>\n",
              "      <td>8</td>\n",
              "      <td>1</td>\n",
              "      <td>6000000</td>\n",
              "      <td>1</td>\n",
              "      <td>1</td>\n",
              "      <td>1</td>\n",
              "      <td>0.226203</td>\n",
              "      <td>-1.408323</td>\n",
              "      <td>-0.106824</td>\n",
              "      <td>Medium</td>\n",
              "      <td>False</td>\n",
              "      <td>False</td>\n",
              "      <td>False</td>\n",
              "      <td>False</td>\n",
              "      <td>False</td>\n",
              "      <td>False</td>\n",
              "      <td>False</td>\n",
              "      <td>True</td>\n",
              "    </tr>\n",
              "    <tr>\n",
              "      <th>8</th>\n",
              "      <td>9</td>\n",
              "      <td>1</td>\n",
              "      <td>7000000</td>\n",
              "      <td>2</td>\n",
              "      <td>1</td>\n",
              "      <td>1</td>\n",
              "      <td>0.620971</td>\n",
              "      <td>-0.522585</td>\n",
              "      <td>-0.106824</td>\n",
              "      <td>High</td>\n",
              "      <td>False</td>\n",
              "      <td>True</td>\n",
              "      <td>False</td>\n",
              "      <td>False</td>\n",
              "      <td>False</td>\n",
              "      <td>False</td>\n",
              "      <td>False</td>\n",
              "      <td>False</td>\n",
              "    </tr>\n",
              "    <tr>\n",
              "      <th>9</th>\n",
              "      <td>10</td>\n",
              "      <td>0</td>\n",
              "      <td>3000000</td>\n",
              "      <td>4</td>\n",
              "      <td>1</td>\n",
              "      <td>0</td>\n",
              "      <td>-0.958104</td>\n",
              "      <td>1.248890</td>\n",
              "      <td>-0.106824</td>\n",
              "      <td>Low</td>\n",
              "      <td>False</td>\n",
              "      <td>False</td>\n",
              "      <td>True</td>\n",
              "      <td>False</td>\n",
              "      <td>False</td>\n",
              "      <td>False</td>\n",
              "      <td>False</td>\n",
              "      <td>False</td>\n",
              "    </tr>\n",
              "  </tbody>\n",
              "</table>\n",
              "</div>\n",
              "    <div class=\"colab-df-buttons\">\n",
              "\n",
              "  <div class=\"colab-df-container\">\n",
              "    <button class=\"colab-df-convert\" onclick=\"convertToInteractive('df-a0187540-4f20-4458-bc71-e15230d4296e')\"\n",
              "            title=\"Convert this dataframe to an interactive table.\"\n",
              "            style=\"display:none;\">\n",
              "\n",
              "  <svg xmlns=\"http://www.w3.org/2000/svg\" height=\"24px\" viewBox=\"0 -960 960 960\">\n",
              "    <path d=\"M120-120v-720h720v720H120Zm60-500h600v-160H180v160Zm220 220h160v-160H400v160Zm0 220h160v-160H400v160ZM180-400h160v-160H180v160Zm440 0h160v-160H620v160ZM180-180h160v-160H180v160Zm440 0h160v-160H620v160Z\"/>\n",
              "  </svg>\n",
              "    </button>\n",
              "\n",
              "  <style>\n",
              "    .colab-df-container {\n",
              "      display:flex;\n",
              "      gap: 12px;\n",
              "    }\n",
              "\n",
              "    .colab-df-convert {\n",
              "      background-color: #E8F0FE;\n",
              "      border: none;\n",
              "      border-radius: 50%;\n",
              "      cursor: pointer;\n",
              "      display: none;\n",
              "      fill: #1967D2;\n",
              "      height: 32px;\n",
              "      padding: 0 0 0 0;\n",
              "      width: 32px;\n",
              "    }\n",
              "\n",
              "    .colab-df-convert:hover {\n",
              "      background-color: #E2EBFA;\n",
              "      box-shadow: 0px 1px 2px rgba(60, 64, 67, 0.3), 0px 1px 3px 1px rgba(60, 64, 67, 0.15);\n",
              "      fill: #174EA6;\n",
              "    }\n",
              "\n",
              "    .colab-df-buttons div {\n",
              "      margin-bottom: 4px;\n",
              "    }\n",
              "\n",
              "    [theme=dark] .colab-df-convert {\n",
              "      background-color: #3B4455;\n",
              "      fill: #D2E3FC;\n",
              "    }\n",
              "\n",
              "    [theme=dark] .colab-df-convert:hover {\n",
              "      background-color: #434B5C;\n",
              "      box-shadow: 0px 1px 3px 1px rgba(0, 0, 0, 0.15);\n",
              "      filter: drop-shadow(0px 1px 2px rgba(0, 0, 0, 0.3));\n",
              "      fill: #FFFFFF;\n",
              "    }\n",
              "  </style>\n",
              "\n",
              "    <script>\n",
              "      const buttonEl =\n",
              "        document.querySelector('#df-a0187540-4f20-4458-bc71-e15230d4296e button.colab-df-convert');\n",
              "      buttonEl.style.display =\n",
              "        google.colab.kernel.accessAllowed ? 'block' : 'none';\n",
              "\n",
              "      async function convertToInteractive(key) {\n",
              "        const element = document.querySelector('#df-a0187540-4f20-4458-bc71-e15230d4296e');\n",
              "        const dataTable =\n",
              "          await google.colab.kernel.invokeFunction('convertToInteractive',\n",
              "                                                    [key], {});\n",
              "        if (!dataTable) return;\n",
              "\n",
              "        const docLinkHtml = 'Like what you see? Visit the ' +\n",
              "          '<a target=\"_blank\" href=https://colab.research.google.com/notebooks/data_table.ipynb>data table notebook</a>'\n",
              "          + ' to learn more about interactive tables.';\n",
              "        element.innerHTML = '';\n",
              "        dataTable['output_type'] = 'display_data';\n",
              "        await google.colab.output.renderOutput(dataTable, element);\n",
              "        const docLink = document.createElement('div');\n",
              "        docLink.innerHTML = docLinkHtml;\n",
              "        element.appendChild(docLink);\n",
              "      }\n",
              "    </script>\n",
              "  </div>\n",
              "\n",
              "\n",
              "    <div id=\"df-6c689d78-e6bd-4766-bd64-2b92f8cf508e\">\n",
              "      <button class=\"colab-df-quickchart\" onclick=\"quickchart('df-6c689d78-e6bd-4766-bd64-2b92f8cf508e')\"\n",
              "                title=\"Suggest charts\"\n",
              "                style=\"display:none;\">\n",
              "\n",
              "<svg xmlns=\"http://www.w3.org/2000/svg\" height=\"24px\"viewBox=\"0 0 24 24\"\n",
              "     width=\"24px\">\n",
              "    <g>\n",
              "        <path d=\"M19 3H5c-1.1 0-2 .9-2 2v14c0 1.1.9 2 2 2h14c1.1 0 2-.9 2-2V5c0-1.1-.9-2-2-2zM9 17H7v-7h2v7zm4 0h-2V7h2v10zm4 0h-2v-4h2v4z\"/>\n",
              "    </g>\n",
              "</svg>\n",
              "      </button>\n",
              "\n",
              "<style>\n",
              "  .colab-df-quickchart {\n",
              "      --bg-color: #E8F0FE;\n",
              "      --fill-color: #1967D2;\n",
              "      --hover-bg-color: #E2EBFA;\n",
              "      --hover-fill-color: #174EA6;\n",
              "      --disabled-fill-color: #AAA;\n",
              "      --disabled-bg-color: #DDD;\n",
              "  }\n",
              "\n",
              "  [theme=dark] .colab-df-quickchart {\n",
              "      --bg-color: #3B4455;\n",
              "      --fill-color: #D2E3FC;\n",
              "      --hover-bg-color: #434B5C;\n",
              "      --hover-fill-color: #FFFFFF;\n",
              "      --disabled-bg-color: #3B4455;\n",
              "      --disabled-fill-color: #666;\n",
              "  }\n",
              "\n",
              "  .colab-df-quickchart {\n",
              "    background-color: var(--bg-color);\n",
              "    border: none;\n",
              "    border-radius: 50%;\n",
              "    cursor: pointer;\n",
              "    display: none;\n",
              "    fill: var(--fill-color);\n",
              "    height: 32px;\n",
              "    padding: 0;\n",
              "    width: 32px;\n",
              "  }\n",
              "\n",
              "  .colab-df-quickchart:hover {\n",
              "    background-color: var(--hover-bg-color);\n",
              "    box-shadow: 0 1px 2px rgba(60, 64, 67, 0.3), 0 1px 3px 1px rgba(60, 64, 67, 0.15);\n",
              "    fill: var(--button-hover-fill-color);\n",
              "  }\n",
              "\n",
              "  .colab-df-quickchart-complete:disabled,\n",
              "  .colab-df-quickchart-complete:disabled:hover {\n",
              "    background-color: var(--disabled-bg-color);\n",
              "    fill: var(--disabled-fill-color);\n",
              "    box-shadow: none;\n",
              "  }\n",
              "\n",
              "  .colab-df-spinner {\n",
              "    border: 2px solid var(--fill-color);\n",
              "    border-color: transparent;\n",
              "    border-bottom-color: var(--fill-color);\n",
              "    animation:\n",
              "      spin 1s steps(1) infinite;\n",
              "  }\n",
              "\n",
              "  @keyframes spin {\n",
              "    0% {\n",
              "      border-color: transparent;\n",
              "      border-bottom-color: var(--fill-color);\n",
              "      border-left-color: var(--fill-color);\n",
              "    }\n",
              "    20% {\n",
              "      border-color: transparent;\n",
              "      border-left-color: var(--fill-color);\n",
              "      border-top-color: var(--fill-color);\n",
              "    }\n",
              "    30% {\n",
              "      border-color: transparent;\n",
              "      border-left-color: var(--fill-color);\n",
              "      border-top-color: var(--fill-color);\n",
              "      border-right-color: var(--fill-color);\n",
              "    }\n",
              "    40% {\n",
              "      border-color: transparent;\n",
              "      border-right-color: var(--fill-color);\n",
              "      border-top-color: var(--fill-color);\n",
              "    }\n",
              "    60% {\n",
              "      border-color: transparent;\n",
              "      border-right-color: var(--fill-color);\n",
              "    }\n",
              "    80% {\n",
              "      border-color: transparent;\n",
              "      border-right-color: var(--fill-color);\n",
              "      border-bottom-color: var(--fill-color);\n",
              "    }\n",
              "    90% {\n",
              "      border-color: transparent;\n",
              "      border-bottom-color: var(--fill-color);\n",
              "    }\n",
              "  }\n",
              "</style>\n",
              "\n",
              "      <script>\n",
              "        async function quickchart(key) {\n",
              "          const quickchartButtonEl =\n",
              "            document.querySelector('#' + key + ' button');\n",
              "          quickchartButtonEl.disabled = true;  // To prevent multiple clicks.\n",
              "          quickchartButtonEl.classList.add('colab-df-spinner');\n",
              "          try {\n",
              "            const charts = await google.colab.kernel.invokeFunction(\n",
              "                'suggestCharts', [key], {});\n",
              "          } catch (error) {\n",
              "            console.error('Error during call to suggestCharts:', error);\n",
              "          }\n",
              "          quickchartButtonEl.classList.remove('colab-df-spinner');\n",
              "          quickchartButtonEl.classList.add('colab-df-quickchart-complete');\n",
              "        }\n",
              "        (() => {\n",
              "          let quickchartButtonEl =\n",
              "            document.querySelector('#df-6c689d78-e6bd-4766-bd64-2b92f8cf508e button');\n",
              "          quickchartButtonEl.style.display =\n",
              "            google.colab.kernel.accessAllowed ? 'block' : 'none';\n",
              "        })();\n",
              "      </script>\n",
              "    </div>\n",
              "\n",
              "    </div>\n",
              "  </div>\n"
            ],
            "application/vnd.google.colaboratory.intrinsic+json": {
              "type": "dataframe",
              "summary": "{\n  \"name\": \"display(df_encoded\",\n  \"rows\": 10,\n  \"fields\": [\n    {\n      \"column\": \"NIM\",\n      \"properties\": {\n        \"dtype\": \"number\",\n        \"std\": 3,\n        \"min\": 1,\n        \"max\": 10,\n        \"num_unique_values\": 10,\n        \"samples\": [\n          9,\n          2,\n          6\n        ],\n        \"semantic_type\": \"\",\n        \"description\": \"\"\n      }\n    },\n    {\n      \"column\": \"Tempat Tinggal\",\n      \"properties\": {\n        \"dtype\": \"number\",\n        \"std\": 0,\n        \"min\": 0,\n        \"max\": 1,\n        \"num_unique_values\": 2,\n        \"samples\": [\n          1,\n          0\n        ],\n        \"semantic_type\": \"\",\n        \"description\": \"\"\n      }\n    },\n    {\n      \"column\": \"Penghasilan Orang Tua\",\n      \"properties\": {\n        \"dtype\": \"number\",\n        \"std\": 2750757,\n        \"min\": 2000000,\n        \"max\": 10000000,\n        \"num_unique_values\": 9,\n        \"samples\": [\n          6000000,\n          8000000\n        ],\n        \"semantic_type\": \"\",\n        \"description\": \"\"\n      }\n    },\n    {\n      \"column\": \"Jumlah Tanggungan Orang Tua\",\n      \"properties\": {\n        \"dtype\": \"number\",\n        \"std\": 1,\n        \"min\": 1,\n        \"max\": 5,\n        \"num_unique_values\": 5,\n        \"samples\": [\n          2,\n          1\n        ],\n        \"semantic_type\": \"\",\n        \"description\": \"\"\n      }\n    },\n    {\n      \"column\": \"Kendaraan\",\n      \"properties\": {\n        \"dtype\": \"number\",\n        \"std\": 0,\n        \"min\": 0,\n        \"max\": 2,\n        \"num_unique_values\": 3,\n        \"samples\": [\n          1,\n          2\n        ],\n        \"semantic_type\": \"\",\n        \"description\": \"\"\n      }\n    },\n    {\n      \"column\": \"Kelayakan Keringanan UKT\",\n      \"properties\": {\n        \"dtype\": \"category\",\n        \"num_unique_values\": 2,\n        \"samples\": [\n          \"1\",\n          \"0\"\n        ],\n        \"semantic_type\": \"\",\n        \"description\": \"\"\n      }\n    },\n    {\n      \"column\": \"Penghasilan_Standar\",\n      \"properties\": {\n        \"dtype\": \"number\",\n        \"std\": 1.0859132560056266,\n        \"min\": -1.3528727148697546,\n        \"max\": 1.8052777721328823,\n        \"num_unique_values\": 9,\n        \"samples\": [\n          0.22620252863156387,\n          1.0157401503822232\n        ],\n        \"semantic_type\": \"\",\n        \"description\": \"\"\n      }\n    },\n    {\n      \"column\": \"Tanggungan_Standar\",\n      \"properties\": {\n        \"dtype\": \"number\",\n        \"std\": 1.0888130728456793,\n        \"min\": -1.4083229332891805,\n        \"max\": 2.1346278422810854,\n        \"num_unique_values\": 5,\n        \"samples\": [\n          -0.522585239396614,\n          -1.4083229332891805\n        ],\n        \"semantic_type\": \"\",\n        \"description\": \"\"\n      }\n    },\n    {\n      \"column\": \"Kendaraan_Standar\",\n      \"properties\": {\n        \"dtype\": \"number\",\n        \"std\": 1.0173743540776823,\n        \"min\": -1.6328858382946803,\n        \"max\": 1.4192372239383666,\n        \"num_unique_values\": 3,\n        \"samples\": [\n          -0.10682430717815673,\n          1.4192372239383666\n        ],\n        \"semantic_type\": \"\",\n        \"description\": \"\"\n      }\n    },\n    {\n      \"column\": \"Kategori_Penghasilan\",\n      \"properties\": {\n        \"dtype\": \"category\",\n        \"num_unique_values\": 3,\n        \"samples\": [\n          \"High\",\n          \"Medium\"\n        ],\n        \"semantic_type\": \"\",\n        \"description\": \"\"\n      }\n    },\n    {\n      \"column\": \"Pekerjaan Orang Tua_BURUH\",\n      \"properties\": {\n        \"dtype\": \"boolean\",\n        \"num_unique_values\": 2,\n        \"samples\": [\n          true,\n          false\n        ],\n        \"semantic_type\": \"\",\n        \"description\": \"\"\n      }\n    },\n    {\n      \"column\": \"Pekerjaan Orang Tua_GURU\",\n      \"properties\": {\n        \"dtype\": \"boolean\",\n        \"num_unique_values\": 2,\n        \"samples\": [\n          true,\n          false\n        ],\n        \"semantic_type\": \"\",\n        \"description\": \"\"\n      }\n    },\n    {\n      \"column\": \"Pekerjaan Orang Tua_IBU RUMAH TANGGA\",\n      \"properties\": {\n        \"dtype\": \"boolean\",\n        \"num_unique_values\": 2,\n        \"samples\": [\n          true,\n          false\n        ],\n        \"semantic_type\": \"\",\n        \"description\": \"\"\n      }\n    },\n    {\n      \"column\": \"Pekerjaan Orang Tua_NELAYAN\",\n      \"properties\": {\n        \"dtype\": \"boolean\",\n        \"num_unique_values\": 2,\n        \"samples\": [\n          true,\n          false\n        ],\n        \"semantic_type\": \"\",\n        \"description\": \"\"\n      }\n    },\n    {\n      \"column\": \"Pekerjaan Orang Tua_PETANI\",\n      \"properties\": {\n        \"dtype\": \"boolean\",\n        \"num_unique_values\": 2,\n        \"samples\": [\n          true,\n          false\n        ],\n        \"semantic_type\": \"\",\n        \"description\": \"\"\n      }\n    },\n    {\n      \"column\": \"Pekerjaan Orang Tua_PNS\",\n      \"properties\": {\n        \"dtype\": \"boolean\",\n        \"num_unique_values\": 2,\n        \"samples\": [\n          false,\n          true\n        ],\n        \"semantic_type\": \"\",\n        \"description\": \"\"\n      }\n    },\n    {\n      \"column\": \"Pekerjaan Orang Tua_TNI/POLRI\",\n      \"properties\": {\n        \"dtype\": \"boolean\",\n        \"num_unique_values\": 2,\n        \"samples\": [\n          true,\n          false\n        ],\n        \"semantic_type\": \"\",\n        \"description\": \"\"\n      }\n    },\n    {\n      \"column\": \"Pekerjaan Orang Tua_WIRASWASTA\",\n      \"properties\": {\n        \"dtype\": \"boolean\",\n        \"num_unique_values\": 2,\n        \"samples\": [\n          true,\n          false\n        ],\n        \"semantic_type\": \"\",\n        \"description\": \"\"\n      }\n    }\n  ]\n}"
            }
          },
          "metadata": {}
        }
      ]
    },
    {
      "cell_type": "markdown",
      "source": [
        "Di bagian ini saya melakukan proses encoding pada kolom “Pekerjaan Orang Tua” dengan menggunakan fungsi `pd.get_dummies()`. Tujuannya supaya data kategorikal di kolom tersebut bisa diubah jadi bentuk yang bisa dibaca oleh model analisis. Hasilnya, setiap jenis pekerjaan orang tua berubah jadi kolom baru yang isinya True atau False, tergantung apakah baris data itu punya kategori tersebut atau nggak.\n",
        "\n",
        "Setelah proses encoding selesai, saya menampilkan 10 data teratas untuk memastikan kalau proses pengubahan datanya udah berhasil dan kolom-kolom baru hasil encoding-nya muncul dengan benar."
      ],
      "metadata": {
        "id": "ITwqqWAEcTYV"
      }
    },
    {
      "cell_type": "markdown",
      "source": [
        "###**Feature Engineering dari Kategori Penghasilan**"
      ],
      "metadata": {
        "id": "Kv7kmcQuKhTA"
      }
    },
    {
      "cell_type": "code",
      "source": [
        "def kategori_penghasilan(x):\n",
        "    if x <= 3000000:\n",
        "        return \"Low\"\n",
        "    elif x <= 6000000:\n",
        "        return \"Medium\"\n",
        "    else:\n",
        "        return \"High\"\n",
        "\n",
        "df['Kategori_Penghasilan'] = df['Penghasilan Orang Tua'].apply(kategori_penghasilan)\n",
        "\n",
        "print(df[['Penghasilan Orang Tua', 'Kategori_Penghasilan']].head(10))"
      ],
      "metadata": {
        "colab": {
          "base_uri": "https://localhost:8080/"
        },
        "id": "37dzMSJnKqTH",
        "outputId": "2787caee-e48b-4cae-c54b-bf32b29e0edb"
      },
      "execution_count": 110,
      "outputs": [
        {
          "output_type": "stream",
          "name": "stdout",
          "text": [
            "   Penghasilan Orang Tua Kategori_Penghasilan\n",
            "0               10000000                 High\n",
            "1                8000000                 High\n",
            "2                4000000               Medium\n",
            "3                3000000                  Low\n",
            "4                2000000                  Low\n",
            "5                5000000               Medium\n",
            "6                9000000                 High\n",
            "7                6000000               Medium\n",
            "8                7000000                 High\n",
            "9                3000000                  Low\n"
          ]
        }
      ]
    },
    {
      "cell_type": "markdown",
      "source": [
        "bagian ini saya buat fungsi bernama kategori_penghasilan yang isinya untuk ngelompokkan data penghasilan orang tua ke dalam tiga kategori, yaitu Low, Medium, dan High. Logikanya, kalau nilai penghasilan kurang dari atau sama dengan 3 juta, maka masuk kategori Low. Kalau penghasilannya antara lebih dari 3 juta sampai 6 juta, masuk kategori Medium, dan kalau di atas 6 juta, berarti masuk kategori High.\n",
        "\n",
        "Setelah fungsi itu jadi, saya terapkan ke kolom “Penghasilan Orang Tua” dengan menggunakan `.apply()`, lalu hasilnya saya simpan di kolom baru yang saya kasih nama “Kategori_Penghasilan”. Terakhir, saya tampilkan 10 data pertama untuk mastikan kalau pengelompokan penghasilan ini udah berhasil dan setiap nilai penghasilan udah punya kategori yang sesuai."
      ],
      "metadata": {
        "id": "PgkDESo9eDpT"
      }
    },
    {
      "cell_type": "markdown",
      "source": [
        "###**Splitting Data**"
      ],
      "metadata": {
        "id": "jrI8tXFzMN0k"
      }
    },
    {
      "cell_type": "code",
      "source": [
        "from sklearn.model_selection import train_test_split\n",
        "\n",
        "X = df.drop(columns=['Kelayakan Keringanan UKT'])\n",
        "y = df['Kelayakan Keringanan UKT']\n",
        "\n",
        "y = pd.to_numeric(y)\n",
        "\n",
        "X_train, X_test, y_train, y_test = train_test_split(\n",
        "    X, y, test_size=0.2, random_state=42, stratify=y\n",
        ")\n",
        "\n",
        "print(\"Jumlah data training :\", X_train.shape[0])\n",
        "print(\"Jumlah data testing  :\", X_test.shape[0])"
      ],
      "metadata": {
        "colab": {
          "base_uri": "https://localhost:8080/"
        },
        "id": "8Xq4A9jUPoIl",
        "outputId": "39ef91f7-870c-4b84-b9b5-d0d87f44e328"
      },
      "execution_count": 95,
      "outputs": [
        {
          "output_type": "stream",
          "name": "stdout",
          "text": [
            "Jumlah data training : 80\n",
            "Jumlah data testing  : 20\n"
          ]
        }
      ]
    },
    {
      "cell_type": "markdown",
      "source": [
        "di bagian akhir ini saya mulai mempersiapkan data untuk proses pelatihan (training) dan pengujian (testing) model. Pertama, saya pisahkan antara fitur (X) dan label (y). Kolom “Kelayakan Keringanan UKT” saya jadikan sebagai label (y) karena itu yang akan diprediksi, sedangkan kolom lainnya saya simpan di X sebagai data fitur.\n",
        "\n",
        "Selanjutnya, saya ubah nilai pada y jadi bentuk numerik pakai pd.to_numeric() supaya bisa diproses oleh model machine learning. Setelah itu, saya bagi dataset menjadi dua bagian menggunakan fungsi train_test_split(), yaitu 80% untuk data training dan 20% untuk data testing. Saya juga tambahkan parameter stratify=y supaya pembagian data tetap seimbang berdasarkan kategori di labelnya.\n",
        "\n",
        "Terakhir, saya tampilkan jumlah data training dan testing buat memastikan kalau proses pembagian datanya udah berhasil dan proporsinya sesuai yang diinginkan."
      ],
      "metadata": {
        "id": "O6Ey3EoGecPy"
      }
    }
  ]
}